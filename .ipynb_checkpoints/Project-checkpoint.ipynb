{
 "cells": [
  {
   "cell_type": "code",
   "execution_count": 1,
   "id": "ffb3a205-c2b0-4416-8671-9f3c95b7dcee",
   "metadata": {
    "tags": []
   },
   "outputs": [
    {
     "name": "stderr",
     "output_type": "stream",
     "text": [
      "2023-04-20 12:24:07: oggm.cfg: Reading default parameters from the OGGM `params.cfg` configuration file.\n",
      "2023-04-20 12:24:07: oggm.cfg: Multiprocessing switched OFF according to the parameter file.\n",
      "2023-04-20 12:24:07: oggm.cfg: Multiprocessing: using all available processors (N=4)\n",
      "2023-04-20 12:24:08: oggm.cfg: PARAMS['border'] changed from `80` to `10`.\n",
      "2023-04-20 12:24:08: oggm.cfg: Multiprocessing switched ON after user settings.\n"
     ]
    }
   ],
   "source": [
    "## Auxiliary libraries\n",
    "import matplotlib.pyplot as plt\n",
    "import numpy as np\n",
    "import pandas as pd\n",
    "import geopandas as gpd\n",
    "import xarray as xr\n",
    "import salem\n",
    "from pathlib import Path\n",
    "import os\n",
    "import sklearn\n",
    "\n",
    "# OGGM\n",
    "import oggm.cfg as cfg\n",
    "from oggm import utils, workflow, tasks, graphics\n",
    "\n",
    "cfg.initialize(logging_level='WARNING') # initialize OGGM\n",
    "cfg.PARAMS['border'] = 10\n",
    "cfg.PARAMS['use_multiprocessing'] = True "
   ]
  },
  {
   "cell_type": "code",
   "execution_count": 3,
   "id": "a8d31b20-f206-40a0-b480-6a05e2efd2fa",
   "metadata": {
    "tags": []
   },
   "outputs": [],
   "source": [
    "ds = pd.read_csv('Data/df_distributed_subset.csv')"
   ]
  },
  {
   "cell_type": "code",
   "execution_count": 6,
   "id": "14bcf82e-7fbf-4cf7-8800-61bf19670007",
   "metadata": {
    "tags": []
   },
   "outputs": [],
   "source": [
    "ds = ds.drop(columns=['Unnamed: 0.1'])\n",
    "y = ds['hugonnet_dhdt']"
   ]
  },
  {
   "cell_type": "code",
   "execution_count": null,
   "id": "164f0780-9a4c-4e0a-a205-1b896c330d7c",
   "metadata": {
    "tags": []
   },
   "outputs": [],
   "source": []
  },
  {
   "cell_type": "code",
   "execution_count": null,
   "id": "4642f636-ebe4-4f22-8d01-1a3dcb065922",
   "metadata": {},
   "outputs": [],
   "source": []
  }
 ],
 "metadata": {
  "kernelspec": {
   "display_name": "IPython - Finse Modelling",
   "language": "python",
   "name": "finse_modelling"
  },
  "language_info": {
   "codemirror_mode": {
    "name": "ipython",
    "version": 3
   },
   "file_extension": ".py",
   "mimetype": "text/x-python",
   "name": "python",
   "nbconvert_exporter": "python",
   "pygments_lexer": "ipython3",
   "version": "3.11.3"
  }
 },
 "nbformat": 4,
 "nbformat_minor": 5
}
